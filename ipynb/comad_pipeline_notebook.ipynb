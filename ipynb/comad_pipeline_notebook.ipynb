{
 "cells": [
  {
   "cell_type": "markdown",
   "id": "388d773d-9ee0-40e9-8345-108e0ca6db96",
   "metadata": {},
   "source": [
    "# NeuFit Modeling Pipeline"
   ]
  },
  {
   "cell_type": "markdown",
   "id": "0b1f1d13-905e-4d2a-83ca-8243e79e75a4",
   "metadata": {},
   "source": [
    "### Assumptions\n",
    "- This Jupyter notebook runs best in Kernel: **neufit**"
   ]
  },
  {
   "cell_type": "markdown",
   "id": "365b05e9-13bd-44c5-8be4-5552c5825988",
   "metadata": {},
   "source": [
    "### Import Functions"
   ]
  },
  {
   "cell_type": "code",
   "execution_count": 1,
   "id": "4dbb9f15-9c31-4535-9873-c517ef49e215",
   "metadata": {},
   "outputs": [],
   "source": [
    "from comad.neufit import neufit, comad_pipeline\n",
    "from comad.utils import biom2data_tax\n",
    "\n",
    "import matplotlib\n",
    "%matplotlib inline"
   ]
  },
  {
   "cell_type": "markdown",
   "id": "969c90ea-043e-4a73-9dd4-eca51c22b750",
   "metadata": {},
   "source": [
    "## Choose Dataseet + Run Pipeline"
   ]
  },
  {
   "cell_type": "markdown",
   "id": "effdfe94-ebf1-4854-9170-c3cde0561a98",
   "metadata": {},
   "source": [
    "### Hutch Kraken Dataset: Ludmil Alexandrov"
   ]
  },
  {
   "cell_type": "markdown",
   "id": "9d17c617-3042-49e6-9514-6fda43a1362e",
   "metadata": {},
   "source": [
    "#### Combined Data (Everything in the dataset)"
   ]
  },
  {
   "cell_type": "code",
   "execution_count": 2,
   "id": "6b4039ed-4599-4d93-9362-abbdb907665a",
   "metadata": {},
   "outputs": [
    {
     "name": "stdout",
     "output_type": "stream",
     "text": [
      "Running dataset:HutchKraken_combined\n",
      "\n",
      "[[Fit Statistics]]\n",
      "    # fitting method   = leastsq\n",
      "    # function evals   = 11\n",
      "    # data points      = 5631\n",
      "    # variables        = 1\n",
      "    chi-square         = 15.2219302\n",
      "    reduced chi-square = 0.00270372\n",
      "    Akaike info crit   = -33295.8214\n",
      "    Bayesian info crit = -33289.1853\n",
      "[[Variables]]\n",
      "    N:  2108 (fixed)\n",
      "    m:  0.32107991 +/- 0.00838540 (2.61%) (init = 0.5)\n",
      "\n",
      " R^2 = 0.82\n",
      "=========================================================\n",
      "\n",
      "Top NonNeutral Microbes\n"
     ]
    },
    {
     "data": {
      "text/html": [
       "<div>\n",
       "<style scoped>\n",
       "    .dataframe tbody tr th:only-of-type {\n",
       "        vertical-align: middle;\n",
       "    }\n",
       "\n",
       "    .dataframe tbody tr th {\n",
       "        vertical-align: top;\n",
       "    }\n",
       "\n",
       "    .dataframe thead th {\n",
       "        text-align: right;\n",
       "    }\n",
       "</style>\n",
       "<table border=\"1\" class=\"dataframe\">\n",
       "  <thead>\n",
       "    <tr style=\"text-align: right;\">\n",
       "      <th></th>\n",
       "      <th>Difference off Neutral Model</th>\n",
       "      <th>taxonomy_0</th>\n",
       "      <th>taxonomy_1</th>\n",
       "      <th>taxonomy_2</th>\n",
       "      <th>taxonomy_3</th>\n",
       "      <th>taxonomy_4</th>\n",
       "      <th>taxonomy_5</th>\n",
       "      <th>taxonomy_6</th>\n",
       "    </tr>\n",
       "  </thead>\n",
       "  <tbody>\n",
       "    <tr>\n",
       "      <th>2</th>\n",
       "      <td>0.958774</td>\n",
       "      <td>k__Viruses</td>\n",
       "      <td>p__Peploviricota</td>\n",
       "      <td>c__Herviviricetes</td>\n",
       "      <td>o__Herpesvirales</td>\n",
       "      <td>f__Herpesviridae</td>\n",
       "      <td>g__Roseolovirus</td>\n",
       "      <td>s__Human betaherpesvirus 6A</td>\n",
       "    </tr>\n",
       "    <tr>\n",
       "      <th>1</th>\n",
       "      <td>0.933507</td>\n",
       "      <td>k__Viruses</td>\n",
       "      <td>p__Peploviricota</td>\n",
       "      <td>c__Herviviricetes</td>\n",
       "      <td>o__Herpesvirales</td>\n",
       "      <td>f__Herpesviridae</td>\n",
       "      <td>g__Roseolovirus</td>\n",
       "      <td>s__Human betaherpesvirus 6B</td>\n",
       "    </tr>\n",
       "    <tr>\n",
       "      <th>3</th>\n",
       "      <td>0.749990</td>\n",
       "      <td>k__Bacteria</td>\n",
       "      <td>p__Proteobacteria</td>\n",
       "      <td>c__Epsilonproteobacteria</td>\n",
       "      <td>o__Campylobacterales</td>\n",
       "      <td>f__Helicobacteraceae</td>\n",
       "      <td>g__Helicobacter</td>\n",
       "      <td>s__pylori</td>\n",
       "    </tr>\n",
       "    <tr>\n",
       "      <th>4</th>\n",
       "      <td>0.638227</td>\n",
       "      <td>k__Bacteria</td>\n",
       "      <td>p__Proteobacteria</td>\n",
       "      <td>c__Gammaproteobacteria</td>\n",
       "      <td>o__Pasteurellales</td>\n",
       "      <td>f__Pasteurellaceae</td>\n",
       "      <td>g__Haemophilus</td>\n",
       "      <td>s__parahaemolyticus</td>\n",
       "    </tr>\n",
       "    <tr>\n",
       "      <th>0</th>\n",
       "      <td>0.586486</td>\n",
       "      <td>k__Bacteria</td>\n",
       "      <td>p__Proteobacteria</td>\n",
       "      <td>c__Gammaproteobacteria</td>\n",
       "      <td>o__Pseudomonadales</td>\n",
       "      <td>f__Pseudomonadaceae</td>\n",
       "      <td>g__Pseudomonas</td>\n",
       "      <td>s__sp. J380</td>\n",
       "    </tr>\n",
       "  </tbody>\n",
       "</table>\n",
       "</div>"
      ],
      "text/plain": [
       "   Difference off Neutral Model   taxonomy_0         taxonomy_1  \\\n",
       "2                      0.958774   k__Viruses   p__Peploviricota   \n",
       "1                      0.933507   k__Viruses   p__Peploviricota   \n",
       "3                      0.749990  k__Bacteria  p__Proteobacteria   \n",
       "4                      0.638227  k__Bacteria  p__Proteobacteria   \n",
       "0                      0.586486  k__Bacteria  p__Proteobacteria   \n",
       "\n",
       "                 taxonomy_2            taxonomy_3            taxonomy_4  \\\n",
       "2         c__Herviviricetes      o__Herpesvirales      f__Herpesviridae   \n",
       "1         c__Herviviricetes      o__Herpesvirales      f__Herpesviridae   \n",
       "3  c__Epsilonproteobacteria  o__Campylobacterales  f__Helicobacteraceae   \n",
       "4    c__Gammaproteobacteria     o__Pasteurellales    f__Pasteurellaceae   \n",
       "0    c__Gammaproteobacteria    o__Pseudomonadales   f__Pseudomonadaceae   \n",
       "\n",
       "        taxonomy_5                   taxonomy_6  \n",
       "2  g__Roseolovirus  s__Human betaherpesvirus 6A  \n",
       "1  g__Roseolovirus  s__Human betaherpesvirus 6B  \n",
       "3  g__Helicobacter                    s__pylori  \n",
       "4   g__Haemophilus          s__parahaemolyticus  \n",
       "0   g__Pseudomonas                  s__sp. J380  "
      ]
     },
     "metadata": {},
     "output_type": "display_data"
    },
    {
     "name": "stdout",
     "output_type": "stream",
     "text": [
      "=========================================================\n",
      "\n"
     ]
    }
   ],
   "source": [
    "#Path of biom file\n",
    "biom_filename = '/Users/cguccion/Dropbox/Storage/RawData/01_11_2021_Hutch340_BE_Samples_LudmilAlexandrov/biom/combined_biome' \n",
    "\n",
    "#Name/nickname of dataset\n",
    "output_filename = 'HutchKraken_combined' \n",
    "\n",
    "#Path of all output files\n",
    "output_filepath = '/Users/cguccion/Dropbox/current_Winter22/CommunityAssemblyPlugin/comad/sample_output' \n",
    "\n",
    "comad_pipeline(biom_filename, output_filename, output_filepath)"
   ]
  },
  {
   "cell_type": "markdown",
   "id": "953c92ad-b554-461d-9bcb-84660de5dcea",
   "metadata": {},
   "source": [
    "# Esoph Data"
   ]
  },
  {
   "cell_type": "code",
   "execution_count": 3,
   "id": "c4dd5114-3092-454e-b538-634cecfa9942",
   "metadata": {},
   "outputs": [
    {
     "name": "stdout",
     "output_type": "stream",
     "text": [
      "Running dataset:shotgun_esoph_mixed\n",
      "\n",
      "[[Fit Statistics]]\n",
      "    # fitting method   = leastsq\n",
      "    # function evals   = 8\n",
      "    # data points      = 708\n",
      "    # variables        = 1\n",
      "    chi-square         = 5.34938310\n",
      "    reduced chi-square = 0.00756631\n",
      "    Akaike info crit   = -3456.90770\n",
      "    Bayesian info crit = -3452.34525\n",
      "[[Variables]]\n",
      "    N:  1477 (fixed)\n",
      "    m:  0.56310107 +/- 0.04096546 (7.27%) (init = 0.5)\n",
      "\n",
      " R^2 = 0.89\n",
      "=========================================================\n",
      "\n",
      "Top NonNeutral Microbes\n",
      "   Difference off Neutral Model   taxonomy_0        taxonomy_1  \\\n",
      "0                      0.876532  k__Bacteria     p__Firmicutes   \n",
      "2                      0.586655  k__Bacteria  p__Bacteroidetes   \n",
      "1                      0.540663  k__Bacteria     p__Firmicutes   \n",
      "\n",
      "         taxonomy_2          taxonomy_3             taxonomy_4  \\\n",
      "0        c__Bacilli  o__Lactobacillales    f__Lactobacillaceae   \n",
      "2    c__Bacteroidia    o__Bacteroidales  f__Porphyromonadaceae   \n",
      "1  c__Negativicutes   o__Veillonellales     f__Veillonellaceae   \n",
      "\n",
      "         taxonomy_5                         taxonomy_6  \n",
      "0  g__Lactobacillus         s__Lactobacillus fermentum  \n",
      "2  g__Porphyromonas        s__Porphyromonas gingivalis  \n",
      "1    g__Veillonella  s__Veillonella sp. oral taxon 780  \n",
      "=========================================================\n",
      "\n"
     ]
    }
   ],
   "source": [
    "#Path of biom file\n",
    "biom_filename = '/Users/cguccion/Dropbox/current_Spring22/shotgun_mixed_normal_esoph/qiita/143917_species.biom' \n",
    "\n",
    "#Name/nickname of dataset\n",
    "output_filename = 'shotgun_esoph_mixed' \n",
    "\n",
    "#Path of all output files\n",
    "output_filepath = '/Users/cguccion/Dropbox/current_Spring22/shotgun_mixed_normal_esoph/qiita/' \n",
    "\n",
    "comad_pipeline(biom_filename, output_filename, output_filepath)"
   ]
  },
  {
   "cell_type": "code",
   "execution_count": null,
   "id": "b759b18b-ac82-4775-9ddb-e4422c326188",
   "metadata": {},
   "outputs": [],
   "source": []
  }
 ],
 "metadata": {
  "kernelspec": {
   "display_name": "comad",
   "language": "python",
   "name": "comad"
  },
  "language_info": {
   "codemirror_mode": {
    "name": "ipython",
    "version": 3
   },
   "file_extension": ".py",
   "mimetype": "text/x-python",
   "name": "python",
   "nbconvert_exporter": "python",
   "pygments_lexer": "ipython3",
   "version": "3.8.8"
  }
 },
 "nbformat": 4,
 "nbformat_minor": 5
}
